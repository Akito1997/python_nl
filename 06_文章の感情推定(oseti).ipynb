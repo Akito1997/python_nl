{
 "cells": [
  {
   "cell_type": "markdown",
   "metadata": {},
   "source": [
    "# 感情推定\n",
    "\n",
    "文章から、人間の感情を推定します。"
   ]
  },
  {
   "cell_type": "code",
   "execution_count": 4,
   "metadata": {},
   "outputs": [],
   "source": [
    "# 必要なライブラリの読み込み\n",
    "import oseti"
   ]
  },
  {
   "cell_type": "code",
   "execution_count": 5,
   "metadata": {},
   "outputs": [
    {
     "data": {
      "text/plain": [
       "[1.0, 1.0]"
      ]
     },
     "execution_count": 5,
     "metadata": {},
     "output_type": "execute_result"
    }
   ],
   "source": [
    "# 感情推定\n",
    "# ポジティブ：1.0\n",
    "# ネガティブ：-1.0\n",
    "analyzer = oseti.Analyzer()\n",
    "analyzer.analyze('私は、先週の日曜日に、東京へ観光へ行きました。めっちゃ楽しかったです。')"
   ]
  },
  {
   "cell_type": "code",
   "execution_count": 6,
   "metadata": {},
   "outputs": [
    {
     "data": {
      "text/plain": [
       "[-1.0]"
      ]
     },
     "execution_count": 6,
     "metadata": {},
     "output_type": "execute_result"
    }
   ],
   "source": [
    "# 感情推定\n",
    "# ポジティブ：1.0\n",
    "# ネガティブ：-1.0\n",
    "analyzer = oseti.Analyzer()\n",
    "analyzer.analyze('糞みたいな接客をされて、腹が立った。')"
   ]
  },
  {
   "cell_type": "code",
   "execution_count": 9,
   "metadata": {},
   "outputs": [
    {
     "data": {
      "text/plain": [
       "[0]"
      ]
     },
     "execution_count": 9,
     "metadata": {},
     "output_type": "execute_result"
    }
   ],
   "source": [
    "# 感情推定\n",
    "# ポジティブ：1.0\n",
    "# ネガティブ：-1.0\n",
    "analyzer = oseti.Analyzer()\n",
    "analyzer.analyze('普通の飲食店で、いつも通り食事をした。')"
   ]
  },
  {
   "cell_type": "code",
   "execution_count": 11,
   "metadata": {},
   "outputs": [
    {
     "data": {
      "text/plain": [
       "[{'positive': 2, 'negative': 0}, {'positive': 1, 'negative': 0}]"
      ]
     },
     "execution_count": 11,
     "metadata": {},
     "output_type": "execute_result"
    }
   ],
   "source": [
    "# より詳しい解析\n",
    "# 感情推定\n",
    "# ポジティブ：1.0\n",
    "# ネガティブ：-1.0\n",
    "analyzer = oseti.Analyzer()\n",
    "analyzer.count_polarity('私は、先週の日曜日に、楽しみだった東京へ観光へ行きました。めっちゃ楽しかったです。')"
   ]
  }
 ],
 "metadata": {
  "kernelspec": {
   "display_name": "Python 3",
   "language": "python",
   "name": "python3"
  },
  "language_info": {
   "codemirror_mode": {
    "name": "ipython",
    "version": 3
   },
   "file_extension": ".py",
   "mimetype": "text/x-python",
   "name": "python",
   "nbconvert_exporter": "python",
   "pygments_lexer": "ipython3",
   "version": "3.7.1"
  }
 },
 "nbformat": 4,
 "nbformat_minor": 4
}
