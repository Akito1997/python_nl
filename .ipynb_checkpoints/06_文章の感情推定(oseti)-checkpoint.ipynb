{
 "cells": [
  {
   "cell_type": "markdown",
   "metadata": {},
   "source": [
    "# 感情推定\n",
    "\n",
    "文章から、人間の感情を推定します。\n",
    "\n",
    "https://qiita.com/toshiyuki_tsutsui/items/604f92dbe6e20a18a17e"
   ]
  },
  {
   "cell_type": "markdown",
   "metadata": {},
   "source": [
    "# oseti\n",
    "\n",
    "東北大学の乾・鈴木研究室のページで公開されている日本語評価極性辞書：\n",
    "\n",
    "http://www.cl.ecei.tohoku.ac.jp/index.php?Open%20Resources%2FJapanese%20Sentiment%20Polarity%20Dictionary\n",
    "    \n",
    "を用いたSentiment Analysis (ネガポジ判定) ライブラリ \n",
    "\n",
    "https://ikegami-yukino.github.io/oss.html"
   ]
  },
  {
   "cell_type": "code",
   "execution_count": 13,
   "metadata": {},
   "outputs": [],
   "source": [
    "# 必要なライブラリの読み込み\n",
    "import oseti"
   ]
  },
  {
   "cell_type": "code",
   "execution_count": 24,
   "metadata": {},
   "outputs": [
    {
     "data": {
      "text/plain": [
       "[1.0]"
      ]
     },
     "execution_count": 24,
     "metadata": {},
     "output_type": "execute_result"
    }
   ],
   "source": [
    "# 感情推定\n",
    "# ポジティブ：1.0\n",
    "# ネガティブ：-1.0\n",
    "analyzer = oseti.Analyzer()\n",
    "analyzer.analyze('私は、先週の日曜日に、東京へ観光へ行きました。')"
   ]
  },
  {
   "cell_type": "code",
   "execution_count": 28,
   "metadata": {},
   "outputs": [
    {
     "data": {
      "text/plain": [
       "[-0.3333333333333333]"
      ]
     },
     "execution_count": 28,
     "metadata": {},
     "output_type": "execute_result"
    }
   ],
   "source": [
    "# 感情推定\n",
    "# ポジティブ：1.0\n",
    "# ネガティブ：-1.0\n",
    "analyzer = oseti.Analyzer()\n",
    "analyzer.analyze('糞みたいな接客をされて、腹が立ったが、料理はおいしかった。')"
   ]
  },
  {
   "cell_type": "code",
   "execution_count": 26,
   "metadata": {},
   "outputs": [
    {
     "data": {
      "text/plain": [
       "[0]"
      ]
     },
     "execution_count": 26,
     "metadata": {},
     "output_type": "execute_result"
    }
   ],
   "source": [
    "# 感情推定\n",
    "# ポジティブ：1.0\n",
    "# ネガティブ：-1.0\n",
    "analyzer = oseti.Analyzer()\n",
    "analyzer.analyze('普通の飲食店で、いつも通り食事をした。')"
   ]
  },
  {
   "cell_type": "code",
   "execution_count": 29,
   "metadata": {},
   "outputs": [
    {
     "data": {
      "text/plain": [
       "[{'positive': 1, 'negative': 0}, {'positive': 1, 'negative': 2}]"
      ]
     },
     "execution_count": 29,
     "metadata": {},
     "output_type": "execute_result"
    }
   ],
   "source": [
    "# より詳しい解析\n",
    "# 感情推定\n",
    "# ポジティブ：1.0\n",
    "# ネガティブ：-1.0\n",
    "analyzer = oseti.Analyzer()\n",
    "analyzer.count_polarity('私は、先週の日曜日に、東京へ観光へ行きました。糞みたいな接客をされて、腹が立ったが、料理はおいしかった。')"
   ]
  },
  {
   "cell_type": "markdown",
   "metadata": {},
   "source": [
    "# 実践編\n",
    "\n",
    "小説の感情推移を見てみる"
   ]
  },
  {
   "cell_type": "code",
   "execution_count": 50,
   "metadata": {},
   "outputs": [],
   "source": [
    "# データの読み込み\n",
    "with open('./data/sanshiro.txt', encoding='sjis') as file:\n",
    "    text = file.read()\n",
    "\n",
    "# テキスト整形\n",
    "import re\n",
    "text = re.split('\\-{5,}',text)[2]\n",
    "text = re.split('底本：',text)[0]\n",
    "text = text.replace('|', '')\n",
    "text = re.sub('《.+?》', '', text)\n",
    "text = re.sub('［＃.+?］', '',text)\n",
    "text = re.sub('\\n\\n', '\\n', text) \n",
    "text = re.sub('\\r', '', text)\n",
    "text = re.sub('　', '', text)\n",
    "text = re.sub(' ', '', text)\n",
    "\n",
    "text_list = text.split('。')"
   ]
  },
  {
   "cell_type": "code",
   "execution_count": 45,
   "metadata": {},
   "outputs": [],
   "source": [
    "# 時系列的なネガポジ数の推移を記録する\n",
    "positive_list=[]\n",
    "negative_list=[]\n",
    "positive_count = 0\n",
    "negative_count = 0\n",
    "for i in range(int(len(text_list)/10)):\n",
    "    analyzer = oseti.Analyzer()\n",
    "    for text in text_list[i*10:i*10+10]:\n",
    "        posi_nega = analyzer.count_polarity(text)\n",
    "        positive_count += posi_nega[0]['positive']\n",
    "        negative_count += posi_nega[0]['negative']\n",
    "        positive_list.append(positive_count)\n",
    "        negative_list.append(negative_count)"
   ]
  },
  {
   "cell_type": "code",
   "execution_count": 46,
   "metadata": {},
   "outputs": [],
   "source": [
    "import matplotlib.pyplot as plt\n",
    "from matplotlib import rcParams\n",
    "# グラフの日本語設定\n",
    "rcParams['font.family'] = 'sans-serif'\n",
    "rcParams['font.sans-serif'] = ['Hiragino Maru Gothic Pro', 'Yu Gothic', 'Meirio', 'Takao', 'IPAexGothic', 'IPAPGothic', 'VL PGothic', 'Noto Sans CJK JP']\n",
    "plt.rcParams['figure.figsize'] = 20, 5"
   ]
  },
  {
   "cell_type": "code",
   "execution_count": 47,
   "metadata": {},
   "outputs": [
    {
     "data": {
      "image/png": "[encoded data removed]",
      "text/plain": [
       "<Figure size 1440x360 with 1 Axes>"
      ]
     },
     "metadata": {
      "needs_background": "light"
     },
     "output_type": "display_data"
    }
   ],
   "source": [
    "plt.plot(positive_list)\n",
    "plt.plot(negative_list)\n",
    "plt.show()"
   ]
  },
  {
   "cell_type": "markdown",
   "metadata": {},
   "source": [
    "# 実際の使い方\n",
    "\n",
    "文章の感情を推定できれば、ユーザがある事象に対し、どのような立場にあるかがわかります。\n",
    "\n",
    "実務では、特定の事象について言及している、Twitterのツイートの感情分析をし、事象がユーザの心理に与える影響などを調査できます。"
   ]
  }
 ],
 "metadata": {
  "kernelspec": {
   "display_name": "Python 3",
   "language": "python",
   "name": "python3"
  },
  "language_info": {
   "codemirror_mode": {
    "name": "ipython",
    "version": 3
   },
   "file_extension": ".py",
   "mimetype": "text/x-python",
   "name": "python",
   "nbconvert_exporter": "python",
   "pygments_lexer": "ipython3",
   "version": "3.6.8"
  }
 },
 "nbformat": 4,
 "nbformat_minor": 4
}
