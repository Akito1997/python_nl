{
 "cells": [
  {
   "cell_type": "markdown",
   "metadata": {},
   "source": [
    "# 文書生成\n",
    "\n",
    "NNを利用して、自動文書生成を行います。\n",
    "\n",
    "LSTMを用いますので、詳細は、「時系列講座」で解説しております。\n",
    "\n",
    "https://ai-lab.lapras.com/nlp/text-generation-2019/"
   ]
  },
  {
   "cell_type": "markdown",
   "metadata": {},
   "source": [
    "## 必要ライブラリの読み込み"
   ]
  },
  {
   "cell_type": "code",
   "execution_count": 78,
   "metadata": {},
   "outputs": [],
   "source": [
    "from keras.models import Sequential\n",
    "from keras.layers import LSTM,Dense, Activation\n",
    "from keras.optimizers import RMSprop\n",
    "from keras.callbacks import LambdaCallback\n",
    "import sys\n",
    "import matplotlib.pyplot as plt\n",
    "import numpy as np"
   ]
  },
  {
   "cell_type": "markdown",
   "metadata": {},
   "source": [
    "## データ生成"
   ]
  },
  {
   "cell_type": "code",
   "execution_count": 79,
   "metadata": {},
   "outputs": [
    {
     "name": "stdout",
     "output_type": "stream",
     "text": [
      "文字の数: 169025\n"
     ]
    }
   ],
   "source": [
    "# データの読み込み\n",
    "with open('./data/sanshiro.txt', encoding='sjis') as file:\n",
    "    text = file.read()\n",
    "    \n",
    "# ファイル整形\n",
    "import re\n",
    "text = re.split('\\-{5,}',text)[2]\n",
    "text = re.split('底本：',text)[0]\n",
    "text = text.replace('|', '')\n",
    "text = re.sub('《.+?》', '', text)\n",
    "text = re.sub('［＃.+?］', '',text)\n",
    "text = re.sub('\\n\\n', '\\n', text) \n",
    "text = re.sub('\\n', '', text) \n",
    "text = re.sub('\\r', '', text)\n",
    "text = re.sub('　', '', text)\n",
    "text = re.sub(' ', '', text)\n",
    "\n",
    "print('文字の数:', len(text))"
   ]
  },
  {
   "cell_type": "code",
   "execution_count": 80,
   "metadata": {},
   "outputs": [
    {
     "name": "stdout",
     "output_type": "stream",
     "text": [
      "ユニーク文字の数: 2023\n"
     ]
    }
   ],
   "source": [
    "# ユニークな文字\n",
    "chars = sorted(list(set(text)))\n",
    "print('ユニーク文字の数:', len(chars))"
   ]
  },
  {
   "cell_type": "code",
   "execution_count": 81,
   "metadata": {},
   "outputs": [],
   "source": [
    "# ユニークな文字を辞書に（逆引き辞書も作成）\n",
    "# 鍵は昇順にした際のインデックス番号\n",
    "char_indices = dict((c, i) for i, c in enumerate(chars))\n",
    "indices_char = dict((i, c) for i, c in enumerate(chars))"
   ]
  },
  {
   "cell_type": "code",
   "execution_count": 82,
   "metadata": {},
   "outputs": [
    {
     "name": "stdout",
     "output_type": "stream",
     "text": [
      "生成した説明変数と目的変数の数： 169017\n"
     ]
    }
   ],
   "source": [
    "# 説明変数：分全体をN文字ごとに区切る\n",
    "# 目的変数：区切った際の次の文字\n",
    "\n",
    "# 何文字ごとに区切るか\n",
    "maxlen = 8\n",
    "\n",
    "# 何文字飛ばしにするか\n",
    "step = 1\n",
    "\n",
    "# 説明変数\n",
    "sentences = []\n",
    "\n",
    "# 目的変数\n",
    "next_chars = []\n",
    "\n",
    "# 格納開始\n",
    "for i in range(0, len(text) - maxlen, step):\n",
    "    sentences.append(text[i: i + maxlen])\n",
    "    next_chars.append(text[i + maxlen])\n",
    "    \n",
    "print('生成した説明変数と目的変数の数：', len(sentences))"
   ]
  },
  {
   "cell_type": "code",
   "execution_count": 83,
   "metadata": {},
   "outputs": [],
   "source": [
    "# 説明変数と目的変数を数値に変換(Bag-of-Words)\n",
    "\n",
    "# 空の配列作成\n",
    "'''\n",
    "【説明変数】\n",
    "下記、データセットの長さ分ある\n",
    "[\n",
    "    [True or Falseがユニーク文字数分（2059個）入っている。該当文字の所だけ、True] # 1文字目\n",
    "    [True or Falseがユニーク文字数分（2059個）入っている。該当文字の所だけ、True] # 2文字目\n",
    "    [True or Falseがユニーク文字数分（2059個）入っている。該当文字の所だけ、True] # 3文字目\n",
    "    [True or Falseがユニーク文字数分（2059個）入っている。該当文字の所だけ、True] # 4文字目\n",
    "    [True or Falseがユニーク文字数分（2059個）入っている。該当文字の所だけ、True] # 5文字目\n",
    "    [True or Falseがユニーク文字数分（2059個）入っている。該当文字の所だけ、True] # 6文字目\n",
    "    [True or Falseがユニーク文字数分（2059個）入っている。該当文字の所だけ、True] # 7文字目\n",
    "    [True or Falseがユニーク文字数分（2059個）入っている。該当文字の所だけ、True] # 8文字目\n",
    "]\n",
    "\n",
    "【目的変数】\n",
    "下記、データセットの長さ分ある\n",
    "[True or Falseがユニーク文字数分（2059個）入っている。該当文字の所だけ、True]\n",
    "'''\n",
    "x = np.zeros((len(sentences), maxlen, len(chars)), dtype=np.bool)\n",
    "y = np.zeros((len(sentences), len(chars)), dtype=np.bool)\n",
    "\n",
    "# 格納開始\n",
    "for i, sentence in enumerate(sentences):\n",
    "    for t, char in enumerate(sentence):\n",
    "        x[i, t, char_indices[char]] = 1 # 上記で作成した辞書を使用し、該当インデックスを引っ張てくる\n",
    "    y[i, char_indices[next_chars[i]]] = 1 # 上記で作成した辞書を使用し、該当インデックスを引っ張てくる"
   ]
  },
  {
   "cell_type": "markdown",
   "metadata": {},
   "source": [
    "## モデル作成"
   ]
  },
  {
   "cell_type": "code",
   "execution_count": 84,
   "metadata": {},
   "outputs": [],
   "source": [
    "# モデル定義\n",
    "model = Sequential()\n",
    "model.add(LSTM(128, input_shape=(maxlen, len(chars))))\n",
    "model.add(Dense(len(chars)))\n",
    "model.add(Activation('softmax'))\n",
    "\n",
    "# 学習設定\n",
    "model.compile(loss='categorical_crossentropy', optimizer=RMSprop(lr=0.01))"
   ]
  },
  {
   "cell_type": "markdown",
   "metadata": {},
   "source": [
    "## コールバック関数の作成"
   ]
  },
  {
   "cell_type": "code",
   "execution_count": 87,
   "metadata": {},
   "outputs": [],
   "source": [
    "def on_epoch_end(epoch, logs):\n",
    "    '''epoch毎に呼ばれるコールバック関数\n",
    "    処理概要：\n",
    "    　「一うとうととして」から始まる文章を生成し、出力する。\n",
    "    '''\n",
    "    # diversity数字が大きくなるにしたがって、予測確率の低い文字も一定の割合で採用する。\n",
    "    for diversity in [0.2]:\n",
    "        # 生成した文書を格納(毎回「一うとうととして」から始める)\n",
    "        sentence = sentences[0]\n",
    "        generated = sentences[0]\n",
    "        sys.stdout.write(generated)\n",
    "        # 何文字生成するか\n",
    "        num_char = 400\n",
    "        for i in range(num_char):\n",
    "            # 予測用の説明変数作成\n",
    "            x_pred = np.zeros((1, maxlen, len(chars)))\n",
    "            for t, char in enumerate(sentence):\n",
    "                x_pred[0, t, char_indices[char]] = 1.\n",
    "            # 予測値の算出\n",
    "            preds = model.predict(x_pred, verbose=0)[0]\n",
    "            # 次の文字のインデックスを求める\n",
    "            next_index = sample(preds, diversity)\n",
    "            # 逆引き辞書を用いて、該当インデックスの文字を求める\n",
    "            next_char = indices_char[next_index]\n",
    "            # 文書を生成していく\n",
    "            generated += next_char\n",
    "            # 次の予測に用いる説明変数の基となる文章\n",
    "            sentence = sentence[1:] + next_char\n",
    "            # 出力\n",
    "            sys.stdout.write(next_char)\n",
    "            sys.stdout.flush()\n",
    "\n",
    "def sample(preds, diversity=1.0):\n",
    "    '''一定割合で変動させながら、最適なインデックスを返す。\n",
    "    引数：\n",
    "    　preds：予測値の配列\n",
    "    　diversity：どのくらいの割合で、確度の低い文字を採用するか\n",
    "    返り値：\n",
    "    　max_index：最大値のインデックス\n",
    "    '''\n",
    "    preds = np.asarray(preds).astype('float64')\n",
    "    preds = np.log(preds) / diversity\n",
    "    exp_preds = np.exp(preds)\n",
    "    preds = exp_preds / np.sum(exp_preds)\n",
    "    preds = np.random.multinomial(1, preds, 1)\n",
    "    max_index = np.argmax(preds)\n",
    "    return max_index"
   ]
  },
  {
   "cell_type": "code",
   "execution_count": 88,
   "metadata": {},
   "outputs": [
    {
     "name": "stdout",
     "output_type": "stream",
     "text": [
      "Epoch 1/6\n",
      "169017/169017 [==============================] - 23s 137us/step - loss: 3.3428\n",
      "一うとうととしている。「あなたは、それから、「このあいだの女はこのあいだに、「このあいだの女は、この時三四郎はまたあいだのと、「ええ、それから、「それは、それから三四郎の言った。「このあいだには、「あなたは、あなたのから、どうして、「このあいだの女は、この時からの手を見た。「どうです」「それはいいから、この時には、「ええ、いつのには、この時三四郎は、「どうもならない。それから三四郎の言った。「どうです」「それから、それから、この時三四郎はまたことを言う。「それでも、それから、「それです」「どうかしている。「それでも、どうもしている。三四郎はまた言った。「ええ、それから、「それでもならない。それから三四郎の言った。「どうも、あなたは、それから、この時三四郎はまたある。三四郎はまたない。三四郎はまた言った。「それから、それから、いつのには、この時三四郎はまたない。どうもしている。三四郎はまたあいだに、「あなたEpoch 2/6\n",
      "169017/169017 [==============================] - 23s 137us/step - loss: 3.1984\n",
      "一うとうととしている。その時三四郎はこのあいだには、また、あの女のところへ行った。その時三四郎はこのあいだには、このあいだのはじめて、その時には、このあいだには、その時には、ああ、その時にはじっとして、その時には、このあいだには、それでも、そのあいだには、「あなたは、その時三四郎はこのあいだにものだから、その時三四郎はこのあいだには、このあいだにはなる。その時三四郎はこの時には、あるから、あなただから、その時には、ああ、あの女のようにしている。その時三四郎はこのあいだには、その時三四郎はこのあいだには、みんなために、その時には、その時三四郎はまたない。三四郎はまた、あなたは、その時三四郎はその時には、このあいだには、ああなるかもしれない。その時三四郎は、その時には、ああいう言葉をかいた。「あるから」「そうですか」と言う。「それから、ああなるかもしれない。その時はじめて、「おもしろい。その時三四郎はこの時にEpoch 3/6\n",
      "169017/169017 [==============================] - 23s 136us/step - loss: 3.0798\n",
      "一うとうととしている。三四郎はこのあいだのようになって、そのうちの三四郎は、こんなことを言った。「そういうわけでもない。そのうちの一人です」「そういうわからない。三四郎は、そのうちのようになっている。三四郎は、その時間が、そのうちの与次郎は、その時間が、そのうちのようになっている。そのうちのようになって、そのうちのあいだのは、そのいるかもしれない。そのうちのようになっている。三四郎は、そのうちのようにしている。三四郎はその時のようにしている。三四郎は、その時分にはいった。三四郎はこの女の所へ行くと、そのうちの、「そういうわけでもない。それから、この男は、「どうです」と言った。「そんなものだから、そのうちのようになっている。三四郎は、すると、「そういうわからない。三四郎はこの時のようになっている。三四郎はこの時間の、「ああありが、そのなかにものうと思っている。三四郎はこの時の前にある。「そういうわけでもないEpoch 4/6\n",
      "169017/169017 [==============================] - 23s 136us/step - loss: 2.9906\n",
      "一うとうととしている。三四郎は、このあいだから、その時三四郎は、その時間には、三四郎の方へ出した。「どうもありません」「いいえ」「いいえ」「いいえ」「なに、そうして、そのまたまたいいものである。三四郎はこのあいだには、その時間には、あの女は、その時間には、あの女はその時間には、ああいうことを聞いた。「いつまでも、そうして、その時三四郎の方へ出した。「どうも、こういうことになる。三四郎はこのあいだには、その時間には、あの女は、その時三四郎の方へ出して、「ああ、あなたは、その時間には、あなたは三四郎の方へ出して、「ああ、あなたは、その時間には、あなたの所へ行っている。その時三四郎は、その時三四郎の手になっている。その時三四郎は、その時三四郎の方へ出した。「なに、そういうことを聞いた。三四郎はこのあいだには、それが三四郎にはいった。三四郎は、このあいだには、このあいだはなんだか、「いつまでも、そうして、そのまたEpoch 5/6\n",
      "169017/169017 [==============================] - 23s 138us/step - loss: 2.9137\n",
      "一うとうととしている。そのうちのは、あなたは、その時間が、まだある。それでいて、すわっている。三四郎はこの時には、「そうです」と言った。「あなたは、その時三四郎はこのあいだに、そのうちのまん中に、「ありません」と言った。「ありません」と言った。「どうもありません」「そうです」と言った。「ありません」と言った。「そうして、そうである。「そういうわけでもなかった。そうして、「どうだ」と言った。「どうして、そうですかという。そのうちのまん中に、そのうしろには、「あなたは、その時三四郎はこの時にはただと言って、そうして、「あなたは、そういうが、このあいだから、そのうちのは、その時間が、三四郎にはただ「ありません」と言った。「そうして、そうである。そうして、このあいだから、その時はじめて、その時間が、三四郎はこのあいだから、そのあいだから、あの女はこのあいだから、この時には、「なぜ」と言った。「ありません」と言ったEpoch 6/6\n",
      "169017/169017 [==============================] - 23s 137us/step - loss: 2.8498\n",
      "一うとうととしている。三四郎はこの時には、「ありがとう」と言った。「それで、それでも、いいかげんになって、その時には、「ありがとう」と言った。「あなたは、あなたは、あなたにもしいんだから、それより、この時にはいったら、そのうちのようなものだから、それから、「おい」と言った。「それでも、そういうでも、あの女のようなものだから、それから、「どうも、ありがとうとして、その時には、その時には、「それでも、あなたは、その時には、「ありがとう」「どういうところに、それで、そのうちのあいだのと、すぐにきた。それでもうまいかと思って、「ありがとう」と言った。「ありません」「そういうということである。三四郎はこの時のようなものを、このあいだから、それよりこれで、「ありがとう」と言った。「それで、それで、その時には、この、三四郎には、それよりも、「おいちょっとおいて、このあいだのようなもので、「ありがとう」「そうですか」「い"
     ]
    }
   ],
   "source": [
    "history = model.fit(\n",
    "    x, \n",
    "    y,\n",
    "    batch_size=128,\n",
    "    epochs=6,\n",
    "    callbacks=[\n",
    "        LambdaCallback(on_epoch_end=on_epoch_end)\n",
    "    ]\n",
    ")"
   ]
  },
  {
   "cell_type": "markdown",
   "metadata": {},
   "source": [
    "## 学習状況の可視化"
   ]
  },
  {
   "cell_type": "code",
   "execution_count": 89,
   "metadata": {},
   "outputs": [
    {
     "data": {
      "image/png": "[encoded data removed]",
      "text/plain": [
       "<Figure size 432x288 with 1 Axes>"
      ]
     },
     "metadata": {
      "needs_background": "light"
     },
     "output_type": "display_data"
    }
   ],
   "source": [
    "loss = history.history[\"loss\"]\n",
    "epochs = range(1, len(loss) + 1)\n",
    "plt.plot(epochs, loss, \"bo\", label = \"Training loss\" )\n",
    "plt.title(\"Training loss\")\n",
    "plt.legend()\n",
    "plt.show()"
   ]
  }
 ],
 "metadata": {
  "kernelspec": {
   "display_name": "Python 3",
   "language": "python",
   "name": "python3"
  },
  "language_info": {
   "codemirror_mode": {
    "name": "ipython",
    "version": 3
   },
   "file_extension": ".py",
   "mimetype": "text/x-python",
   "name": "python",
   "nbconvert_exporter": "python",
   "pygments_lexer": "ipython3",
   "version": "3.6.8"
  }
 },
 "nbformat": 4,
 "nbformat_minor": 4
}
